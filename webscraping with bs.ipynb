{
 "cells": [
  {
   "cell_type": "code",
   "execution_count": 1,
   "metadata": {},
   "outputs": [],
   "source": [
    "import requests\n",
    "import lxml.html as lh\n",
    "import pandas as pd"
   ]
  },
  {
   "cell_type": "code",
   "execution_count": 2,
   "metadata": {},
   "outputs": [],
   "source": [
    "url='https://www.sqconline.com/mil-hdbk-217-resistor-tables#quality'\n",
    "#Create a handle, page, to handle the contents of the website\n",
    "page = requests.get(url)\n",
    "#Store the contents of the website under doc\n",
    "doc = lh.fromstring(page.content)\n",
    "#Parse data that are stored between <tr>..</tr> of HTML\n",
    "tr_elements = doc.xpath('//tr')"
   ]
  },
  {
   "cell_type": "code",
   "execution_count": 3,
   "metadata": {},
   "outputs": [
    {
     "data": {
      "text/plain": [
       "[6, 0, 6, 6, 6, 6, 6, 6, 6, 6, 6, 6]"
      ]
     },
     "execution_count": 3,
     "metadata": {},
     "output_type": "execute_result"
    }
   ],
   "source": [
    "#Check the length of the first 12 rows\n",
    "[len(T) for T in tr_elements[:12]]"
   ]
  },
  {
   "cell_type": "code",
   "execution_count": 4,
   "metadata": {},
   "outputs": [
    {
     "name": "stdout",
     "output_type": "stream",
     "text": [
      "1:\"Resistor Style\"\n",
      "2:\"Specification\"\n",
      "3:\"Description\"\n",
      "4:\"λb\"\n",
      "5:\"πT TableUse Column:\"\n",
      "6:\"πS TableUse Column:\"\n"
     ]
    }
   ],
   "source": [
    "tr_elements = doc.xpath('//tr')\n",
    "#Create empty list\n",
    "col=[]\n",
    "i=0\n",
    "#For each row, store each first element (header) and an empty list\n",
    "for t in tr_elements[0]:\n",
    "    i+=1\n",
    "    name=t.text_content()\n",
    "    print ('%d:\"%s\"'%(i,name))\n",
    "    col.append((name,[]))"
   ]
  },
  {
   "cell_type": "code",
   "execution_count": 5,
   "metadata": {},
   "outputs": [],
   "source": [
    "#Since out first row is the header, data is stored on the second row onwards\n",
    "for j in range(1,len(tr_elements)):\n",
    "    #T is our j'th row\n",
    "    T=tr_elements[j]\n",
    "    \n",
    "    #If row is not of size 10, the //tr data is not from our table \n",
    "    if len(T)!=10:\n",
    "        break\n",
    "    \n",
    "    #i is the index of our column\n",
    "    i=0\n",
    "    \n",
    "    #Iterate through each element of the row\n",
    "    for t in T.iterchildren():\n",
    "        data=t.text_content() \n",
    "        #Check if row is empty\n",
    "        if i>0:\n",
    "        #Convert any numerical value to integers\n",
    "            try:\n",
    "                data=int(data)\n",
    "            except:\n",
    "                pass\n",
    "        #Append the data to the empty list of the i'th column\n",
    "        col[i][1].append(data)\n",
    "        #Increment i for the next column\n",
    "        i+=1"
   ]
  },
  {
   "cell_type": "code",
   "execution_count": 6,
   "metadata": {},
   "outputs": [
    {
     "data": {
      "text/plain": [
       "[0, 0, 0, 0, 0, 0]"
      ]
     },
     "execution_count": 6,
     "metadata": {},
     "output_type": "execute_result"
    }
   ],
   "source": [
    "[len(C) for (title,C) in col]"
   ]
  },
  {
   "cell_type": "code",
   "execution_count": 7,
   "metadata": {},
   "outputs": [],
   "source": [
    "Dict={title:column for (title,column) in col}\n",
    "df=pd.DataFrame(Dict)"
   ]
  },
  {
   "cell_type": "code",
   "execution_count": 8,
   "metadata": {},
   "outputs": [
    {
     "data": {
      "text/html": [
       "<div>\n",
       "<style scoped>\n",
       "    .dataframe tbody tr th:only-of-type {\n",
       "        vertical-align: middle;\n",
       "    }\n",
       "\n",
       "    .dataframe tbody tr th {\n",
       "        vertical-align: top;\n",
       "    }\n",
       "\n",
       "    .dataframe thead th {\n",
       "        text-align: right;\n",
       "    }\n",
       "</style>\n",
       "<table border=\"1\" class=\"dataframe\">\n",
       "  <thead>\n",
       "    <tr style=\"text-align: right;\">\n",
       "      <th></th>\n",
       "      <th>Resistor Style</th>\n",
       "      <th>Specification</th>\n",
       "      <th>Description</th>\n",
       "      <th>λb</th>\n",
       "      <th>πT TableUse Column:</th>\n",
       "      <th>πS TableUse Column:</th>\n",
       "    </tr>\n",
       "  </thead>\n",
       "  <tbody>\n",
       "  </tbody>\n",
       "</table>\n",
       "</div>"
      ],
      "text/plain": [
       "Empty DataFrame\n",
       "Columns: [Resistor Style, Specification, Description, λb, πT TableUse Column:, πS TableUse Column:]\n",
       "Index: []"
      ]
     },
     "execution_count": 8,
     "metadata": {},
     "output_type": "execute_result"
    }
   ],
   "source": [
    "df.head()"
   ]
  },
  {
   "cell_type": "code",
   "execution_count": 9,
   "metadata": {},
   "outputs": [
    {
     "name": "stdout",
     "output_type": "stream",
     "text": [
      "[{\"0\":\"Resistor Style\",\"1\":\"Specification\",\"2\":\"Description\",\"3\":\"\\u03bbb\",\"4\":\"\\u03c0T TableUse Column:\",\"5\":\"\\u03c0S TableUse Column:\"},{\"0\":null,\"1\":null,\"2\":null,\"3\":null,\"4\":null,\"5\":null},{\"0\":\"RC\",\"1\":\"MIL-R-11\",\"2\":\"Resistor, Fixed, Composition (Insulated)\",\"3\":\"0.0017\",\"4\":\"1\",\"5\":\"2\"},{\"0\":\"RCR\",\"1\":\"MIL-R-39008\",\"2\":\"Resistor, Fixed, Composition (Insulated) Est. Rel.\",\"3\":\"0.0017\",\"4\":\"1\",\"5\":\"2\"},{\"0\":\"RL\",\"1\":\"MIL-R-22684\",\"2\":\"Resistor, Fixed, Film, Insulated\",\"3\":\"0.0037\",\"4\":\"2\",\"5\":\"1\"},{\"0\":\"RLR\",\"1\":\"MIL-R-39017\",\"2\":\"Resistor, Fixed, Film (Insulated), Est. Rel.\",\"3\":\"0.0037\",\"4\":\"2\",\"5\":\"1\"},{\"0\":\"RN (R, C or N)\",\"1\":\"MIL-R-55182\",\"2\":\"Resistor, Fixed, Film, Established Reliabily\",\"3\":\"0.0037\",\"4\":\"2\",\"5\":\"1\"},{\"0\":\"RM\",\"1\":\"MIL-R-55342\",\"2\":\"Resistor, Fixed, Film, Chip, Established Reliabiiity\",\"3\":\"0.0037\",\"4\":\"2\",\"5\":\"1\"},{\"0\":\"RN\",\"1\":\"MIL-R-10509\",\"2\":\"Resistor, Fixed Film (High Stability)\",\"3\":\"0.0037\",\"4\":\"2\",\"5\":\"1\"},{\"0\":\"RD\",\"1\":\"MIL-R-11804\",\"2\":\"Resistor, Fixed, Film (Power Type)\",\"3\":\"0.0037\",\"4\":\"N\\/A, \\u03c0T=1\",\"5\":\"1\"},{\"0\":\"RZ\",\"1\":\"MIL-R-83401\",\"2\":\"Resistor Networks, Fixed, Film\",\"3\":\"0.0019\",\"4\":\"1\",\"5\":\"N\\/A, \\u03c0S=1\"},{\"0\":\"RB\",\"1\":\"MIL-R-93\",\"2\":\"Resistor, Fixed, Wirewound (Accurate)\",\"3\":\"0.0024\",\"4\":\"2\",\"5\":\"1\"},{\"0\":\"RBR\",\"1\":\"MIL-R-39005\",\"2\":\"Resistor, Fixed, Wirewound (Accurate) Est. Rel.\",\"3\":\"0.0024\",\"4\":\"2\",\"5\":\"1\"},{\"0\":\"RW\",\"1\":\"MIL-R-26\",\"2\":\"Resistor, Fixed, Wirewound (Power Type)\",\"3\":\"0.0024\",\"4\":\"2\",\"5\":\"2\"},{\"0\":\"RWR\",\"1\":\"MIL-R-39007\",\"2\":\"Resistor, Fixed, Wirewound (Power Type), Est. Rel\",\"3\":\"0.0024\",\"4\":\"2\",\"5\":\"2\"},{\"0\":\"RE\",\"1\":\"MIL-R-18546\",\"2\":\"Resistor, Fixed, Wirewound (Power Type, Chassis Mounted)\",\"3\":\"0.0024\",\"4\":\"2\",\"5\":\"2\"},{\"0\":\"RER\",\"1\":\"MIL-R-39009\",\"2\":\"Resistor, Fixed, Wirewound (Power Type, Chassis Mounted), Est. Rel.\",\"3\":\"0.0024\",\"4\":\"2\",\"5\":\"2\"},{\"0\":\"RTH\",\"1\":\"MIL-R-23648\",\"2\":\"Thermistor (Thermally Sensitive Resistor), Insulated\",\"3\":\"0.0019\",\"4\":\"N\\/A, \\u03c0T=1\",\"5\":\"N\\/A, \\u03c0S=1\"},{\"0\":\"RT\",\"1\":\"MIL-R-27208\",\"2\":\"Resistor, Variabie, Wirewound (Lead Screw Activated)\",\"3\":\"0.0024\",\"4\":\"2\",\"5\":\"1\"},{\"0\":\"RTR\",\"1\":\"MIL-R-39015\",\"2\":\"Resistor, Variable, Wirewound (Lead Screw Activated), Established Reliability\",\"3\":\"0.0024\",\"4\":\"2\",\"5\":\"1\"},{\"0\":\"RR\",\"1\":\"MIL-R-12934\",\"2\":\"Resistor, Variabie, Wirewound, Precision\",\"3\":\"0.0024\",\"4\":\"2\",\"5\":\"1\"},{\"0\":\"RA\",\"1\":\"MIL-R-19\",\"2\":\"Resistor, Variable, Wirewound (Low Operating Temperature)\",\"3\":\"0.0024\",\"4\":\"1\",\"5\":\"1\"},{\"0\":\"RK\",\"1\":\"MIL-R-0\",\"2\":\"Resistor, Variable, Wirewound, Semi-Precision\",\"3\":\"0.0024\",\"4\":\"1\",\"5\":\"1\"},{\"0\":\"RP\",\"1\":\"MIL-R-22\",\"2\":\"Resistor, Wirewound, Power Type\",\"3\":\"0.0024\",\"4\":\"2\",\"5\":\"1\"},{\"0\":\"RJ\",\"1\":\"MIL-R-22097\",\"2\":\"Resistor, Variable, Nonwirewound\",\"3\":\"0.0037\",\"4\":\"2\",\"5\":\"1\"},{\"0\":\"RJR\",\"1\":\"MIL-R-39035\",\"2\":\"Resistor, Variable, Nonwirewound Est. Rel.\",\"3\":\"0.0037\",\"4\":\"2\",\"5\":\"1\"},{\"0\":\"RV\",\"1\":\"MIL-R-94\",\"2\":\"Resistor, Variabie, Composition\",\"3\":\"0.0037\",\"4\":\"2\",\"5\":\"1\"},{\"0\":\"RQ\",\"1\":\"MIL-R-39023\",\"2\":\"Resistor, Variable, Nonwirewound, Precision\",\"3\":\"0.0037\",\"4\":\"1\",\"5\":\"1\"},{\"0\":\"RVC\",\"1\":\"MIL-R-23285\",\"2\":\"Resistor, Variable, Nonwirewound\",\"3\":\"0.0037\",\"4\":\"1\",\"5\":\"1\"}]\n"
     ]
    }
   ],
   "source": [
    "import pandas as pd\n",
    "import requests\n",
    "from bs4 import BeautifulSoup\n",
    "\n",
    "res = requests.get(\"https://www.sqconline.com/mil-hdbk-217-resistor-tables#quality\")\n",
    "soup = BeautifulSoup(res.content,'lxml')\n",
    "table = soup.find_all('table')[0] \n",
    "df = pd.read_html(str(table))\n",
    "print(df[0].to_json(orient='records'))"
   ]
  },
  {
   "cell_type": "code",
   "execution_count": 10,
   "metadata": {},
   "outputs": [
    {
     "name": "stdout",
     "output_type": "stream",
     "text": [
      "+----+----------------+---------------+-------------------------------------------------------------------------------+--------+---------------------+---------------------+\n",
      "|    | 0              | 1             | 2                                                                             | 3      | 4                   | 5                   |\n",
      "|----+----------------+---------------+-------------------------------------------------------------------------------+--------+---------------------+---------------------|\n",
      "|  0 | Resistor Style | Specification | Description                                                                   | λb     | πT TableUse Column: | πS TableUse Column: |\n",
      "|  1 | nan            | nan           | nan                                                                           | nan    | nan                 | nan                 |\n",
      "|  2 | RC             | MIL-R-11      | Resistor, Fixed, Composition (Insulated)                                      | 0.0017 | 1                   | 2                   |\n",
      "|  3 | RCR            | MIL-R-39008   | Resistor, Fixed, Composition (Insulated) Est. Rel.                            | 0.0017 | 1                   | 2                   |\n",
      "|  4 | RL             | MIL-R-22684   | Resistor, Fixed, Film, Insulated                                              | 0.0037 | 2                   | 1                   |\n",
      "|  5 | RLR            | MIL-R-39017   | Resistor, Fixed, Film (Insulated), Est. Rel.                                  | 0.0037 | 2                   | 1                   |\n",
      "|  6 | RN (R, C or N) | MIL-R-55182   | Resistor, Fixed, Film, Established Reliabily                                  | 0.0037 | 2                   | 1                   |\n",
      "|  7 | RM             | MIL-R-55342   | Resistor, Fixed, Film, Chip, Established Reliabiiity                          | 0.0037 | 2                   | 1                   |\n",
      "|  8 | RN             | MIL-R-10509   | Resistor, Fixed Film (High Stability)                                         | 0.0037 | 2                   | 1                   |\n",
      "|  9 | RD             | MIL-R-11804   | Resistor, Fixed, Film (Power Type)                                            | 0.0037 | N/A, πT=1           | 1                   |\n",
      "| 10 | RZ             | MIL-R-83401   | Resistor Networks, Fixed, Film                                                | 0.0019 | 1                   | N/A, πS=1           |\n",
      "| 11 | RB             | MIL-R-93      | Resistor, Fixed, Wirewound (Accurate)                                         | 0.0024 | 2                   | 1                   |\n",
      "| 12 | RBR            | MIL-R-39005   | Resistor, Fixed, Wirewound (Accurate) Est. Rel.                               | 0.0024 | 2                   | 1                   |\n",
      "| 13 | RW             | MIL-R-26      | Resistor, Fixed, Wirewound (Power Type)                                       | 0.0024 | 2                   | 2                   |\n",
      "| 14 | RWR            | MIL-R-39007   | Resistor, Fixed, Wirewound (Power Type), Est. Rel                             | 0.0024 | 2                   | 2                   |\n",
      "| 15 | RE             | MIL-R-18546   | Resistor, Fixed, Wirewound (Power Type, Chassis Mounted)                      | 0.0024 | 2                   | 2                   |\n",
      "| 16 | RER            | MIL-R-39009   | Resistor, Fixed, Wirewound (Power Type, Chassis Mounted), Est. Rel.           | 0.0024 | 2                   | 2                   |\n",
      "| 17 | RTH            | MIL-R-23648   | Thermistor (Thermally Sensitive Resistor), Insulated                          | 0.0019 | N/A, πT=1           | N/A, πS=1           |\n",
      "| 18 | RT             | MIL-R-27208   | Resistor, Variabie, Wirewound (Lead Screw Activated)                          | 0.0024 | 2                   | 1                   |\n",
      "| 19 | RTR            | MIL-R-39015   | Resistor, Variable, Wirewound (Lead Screw Activated), Established Reliability | 0.0024 | 2                   | 1                   |\n",
      "| 20 | RR             | MIL-R-12934   | Resistor, Variabie, Wirewound, Precision                                      | 0.0024 | 2                   | 1                   |\n",
      "| 21 | RA             | MIL-R-19      | Resistor, Variable, Wirewound (Low Operating Temperature)                     | 0.0024 | 1                   | 1                   |\n",
      "| 22 | RK             | MIL-R-0       | Resistor, Variable, Wirewound, Semi-Precision                                 | 0.0024 | 1                   | 1                   |\n",
      "| 23 | RP             | MIL-R-22      | Resistor, Wirewound, Power Type                                               | 0.0024 | 2                   | 1                   |\n",
      "| 24 | RJ             | MIL-R-22097   | Resistor, Variable, Nonwirewound                                              | 0.0037 | 2                   | 1                   |\n",
      "| 25 | RJR            | MIL-R-39035   | Resistor, Variable, Nonwirewound Est. Rel.                                    | 0.0037 | 2                   | 1                   |\n",
      "| 26 | RV             | MIL-R-94      | Resistor, Variabie, Composition                                               | 0.0037 | 2                   | 1                   |\n",
      "| 27 | RQ             | MIL-R-39023   | Resistor, Variable, Nonwirewound, Precision                                   | 0.0037 | 1                   | 1                   |\n",
      "| 28 | RVC            | MIL-R-23285   | Resistor, Variable, Nonwirewound                                              | 0.0037 | 1                   | 1                   |\n",
      "+----+----------------+---------------+-------------------------------------------------------------------------------+--------+---------------------+---------------------+\n"
     ]
    }
   ],
   "source": [
    "import pandas as pd\n",
    "import requests\n",
    "from bs4 import BeautifulSoup\n",
    "from tabulate import tabulate\n",
    "\n",
    "res = requests.get(\"https://www.sqconline.com/mil-hdbk-217-resistor-tables#quality\")\n",
    "soup = BeautifulSoup(res.content,'lxml')\n",
    "table = soup.find_all('table')[0] \n",
    "df = pd.read_html(str(table))\n",
    "print( tabulate(df[0], headers='keys', tablefmt='psql') )\n"
   ]
  },
  {
   "cell_type": "code",
   "execution_count": 11,
   "metadata": {},
   "outputs": [],
   "source": [
    "Pib=pd.read_excel(\"mtbf_table.xlsx\",sheet_name='Pi-b')\n",
    "Pit=pd.read_excel(\"mtbf_table.xlsx\",sheet_name='Pi-t')\n",
    "Pip=pd.read_excel(\"mtbf_table.xlsx\",sheet_name='Pi-p')\n",
    "Pis=pd.read_excel(\"mtbf_table.xlsx\",sheet_name='Pi-s')\n",
    "Pie=pd.read_excel(\"mtbf_table.xlsx\",sheet_name='Pi-e')\n",
    "Piq=pd.read_excel(\"mtbf_table.xlsx\",sheet_name='Pi-q')"
   ]
  },
  {
   "cell_type": "code",
   "execution_count": 12,
   "metadata": {},
   "outputs": [
    {
     "data": {
      "text/html": [
       "<div>\n",
       "<style scoped>\n",
       "    .dataframe tbody tr th:only-of-type {\n",
       "        vertical-align: middle;\n",
       "    }\n",
       "\n",
       "    .dataframe tbody tr th {\n",
       "        vertical-align: top;\n",
       "    }\n",
       "\n",
       "    .dataframe thead th {\n",
       "        text-align: right;\n",
       "    }\n",
       "</style>\n",
       "<table border=\"1\" class=\"dataframe\">\n",
       "  <thead>\n",
       "    <tr style=\"text-align: right;\">\n",
       "      <th></th>\n",
       "      <th>Quality Factor</th>\n",
       "      <th>πQ</th>\n",
       "    </tr>\n",
       "  </thead>\n",
       "  <tbody>\n",
       "    <tr>\n",
       "      <th>0</th>\n",
       "      <td>Established Reliability, Style S</td>\n",
       "      <td>0.0</td>\n",
       "    </tr>\n",
       "    <tr>\n",
       "      <th>1</th>\n",
       "      <td>Established Reliability, Style R</td>\n",
       "      <td>0.1</td>\n",
       "    </tr>\n",
       "  </tbody>\n",
       "</table>\n",
       "</div>"
      ],
      "text/plain": [
       "                     Quality Factor   πQ\n",
       "0  Established Reliability, Style S  0.0\n",
       "1  Established Reliability, Style R  0.1"
      ]
     },
     "execution_count": 12,
     "metadata": {},
     "output_type": "execute_result"
    }
   ],
   "source": [
    "Pib.head(2)\n",
    "Piq.head(2)"
   ]
  },
  {
   "cell_type": "code",
   "execution_count": null,
   "metadata": {},
   "outputs": [],
   "source": []
  }
 ],
 "metadata": {
  "kernelspec": {
   "display_name": "Python 3",
   "language": "python",
   "name": "python3"
  },
  "language_info": {
   "codemirror_mode": {
    "name": "ipython",
    "version": 3
   },
   "file_extension": ".py",
   "mimetype": "text/x-python",
   "name": "python",
   "nbconvert_exporter": "python",
   "pygments_lexer": "ipython3",
   "version": "3.6.5"
  }
 },
 "nbformat": 4,
 "nbformat_minor": 2
}
